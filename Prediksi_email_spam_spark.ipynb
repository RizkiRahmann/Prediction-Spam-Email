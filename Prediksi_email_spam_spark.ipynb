{
  "nbformat": 4,
  "nbformat_minor": 0,
  "metadata": {
    "colab": {
      "provenance": [],
      "include_colab_link": true
    },
    "kernelspec": {
      "name": "python3",
      "display_name": "Python 3"
    },
    "language_info": {
      "name": "python"
    }
  },
  "cells": [
    {
      "cell_type": "markdown",
      "metadata": {
        "id": "view-in-github",
        "colab_type": "text"
      },
      "source": [
        "<a href=\"https://colab.research.google.com/github/RizkiRahmann/Prediction-Spam-Email/blob/main/Prediksi_email_spam_spark.ipynb\" target=\"_parent\"><img src=\"https://colab.research.google.com/assets/colab-badge.svg\" alt=\"Open In Colab\"/></a>"
      ]
    },
    {
      "cell_type": "code",
      "source": [
        "!pip install pyspark"
      ],
      "metadata": {
        "colab": {
          "base_uri": "https://localhost:8080/"
        },
        "id": "6UaOdvSjGNkP",
        "outputId": "4b8a7919-e079-47d8-a3b8-580591bb79c7"
      },
      "execution_count": null,
      "outputs": [
        {
          "output_type": "stream",
          "name": "stdout",
          "text": [
            "Looking in indexes: https://pypi.org/simple, https://us-python.pkg.dev/colab-wheels/public/simple/\n",
            "Collecting pyspark\n",
            "  Downloading pyspark-3.3.1.tar.gz (281.4 MB)\n",
            "\u001b[2K     \u001b[90m━━━━━━━━━━━━━━━━━━━━━━━━━━━━━━━━━━━━━━━\u001b[0m \u001b[32m281.4/281.4 MB\u001b[0m \u001b[31m4.7 MB/s\u001b[0m eta \u001b[36m0:00:00\u001b[0m\n",
            "\u001b[?25h  Preparing metadata (setup.py) ... \u001b[?25l\u001b[?25hdone\n",
            "Collecting py4j==0.10.9.5\n",
            "  Downloading py4j-0.10.9.5-py2.py3-none-any.whl (199 kB)\n",
            "\u001b[2K     \u001b[90m━━━━━━━━━━━━━━━━━━━━━━━━━━━━━━━━━━━━━━\u001b[0m \u001b[32m199.7/199.7 KB\u001b[0m \u001b[31m16.4 MB/s\u001b[0m eta \u001b[36m0:00:00\u001b[0m\n",
            "\u001b[?25hBuilding wheels for collected packages: pyspark\n",
            "  Building wheel for pyspark (setup.py) ... \u001b[?25l\u001b[?25hdone\n",
            "  Created wheel for pyspark: filename=pyspark-3.3.1-py2.py3-none-any.whl size=281845512 sha256=d2342e2ad8dfed00d99c02f403722481b3c45f7d31e5d81a5479dbcef0da0840\n",
            "  Stored in directory: /root/.cache/pip/wheels/43/dc/11/ec201cd671da62fa9c5cc77078235e40722170ceba231d7598\n",
            "Successfully built pyspark\n",
            "Installing collected packages: py4j, pyspark\n",
            "Successfully installed py4j-0.10.9.5 pyspark-3.3.1\n"
          ]
        }
      ]
    },
    {
      "cell_type": "code",
      "source": [
        "!pip install findspark"
      ],
      "metadata": {
        "colab": {
          "base_uri": "https://localhost:8080/"
        },
        "id": "8p_3JHLjHR4f",
        "outputId": "52ed918b-8160-4891-f3ae-0b2780129c59"
      },
      "execution_count": null,
      "outputs": [
        {
          "output_type": "stream",
          "name": "stdout",
          "text": [
            "Looking in indexes: https://pypi.org/simple, https://us-python.pkg.dev/colab-wheels/public/simple/\n",
            "Collecting findspark\n",
            "  Downloading findspark-2.0.1-py2.py3-none-any.whl (4.4 kB)\n",
            "Installing collected packages: findspark\n",
            "Successfully installed findspark-2.0.1\n"
          ]
        }
      ]
    },
    {
      "cell_type": "code",
      "execution_count": null,
      "metadata": {
        "id": "JetRW5v-FxTE"
      },
      "outputs": [],
      "source": [
        "# findspark yang berfungsi sebagai untuk menentukan lokasi pyspark yang sudah terinstall\n",
        "# mengimport library\n",
        "import findspark\n",
        "findspark.init()\n",
        "findspark.find()\n",
        "import pyspark"
      ]
    },
    {
      "cell_type": "code",
      "source": [
        "from pyspark.sql import SparkSession\n",
        "appName = \" FP - BDPL\"\n",
        "spark = SparkSession.builder\\\n",
        "        .master(\"local\")\\\n",
        "        .appName(appName)\\\n",
        "        .config('spark.some.config.option', 'some_value')\\\n",
        "        .getOrCreate()\n",
        "sc = spark.sparkContext"
      ],
      "metadata": {
        "id": "HH07e1EtHeDh"
      },
      "execution_count": null,
      "outputs": []
    },
    {
      "cell_type": "code",
      "source": [
        "# mengimport dataset\n",
        "df = spark.read.csv('/content/emails.csv',header=True,sep=\",\",inferSchema=True)"
      ],
      "metadata": {
        "id": "o_ye0VZEHzP7"
      },
      "execution_count": null,
      "outputs": []
    },
    {
      "cell_type": "code",
      "source": [
        "# inisialisasi tipe data dan menampilkan data\n",
        "df.printSchema()\n",
        "df.show()"
      ],
      "metadata": {
        "colab": {
          "base_uri": "https://localhost:8080/"
        },
        "id": "U9hXXCHwJaQm",
        "outputId": "c660c1bd-5842-45cc-dba3-4ccd3398b754"
      },
      "execution_count": null,
      "outputs": [
        {
          "output_type": "stream",
          "name": "stdout",
          "text": [
            "root\n",
            " |-- text: string (nullable = true)\n",
            " |-- spam: string (nullable = true)\n",
            "\n",
            "+--------------------+--------------------+\n",
            "|                text|                spam|\n",
            "+--------------------+--------------------+\n",
            "|Subject: naturall...|                   1|\n",
            "|Subject: the stoc...|                   1|\n",
            "|Subject: unbeliev...|                   1|\n",
            "|Subject: 4 color ...|                   1|\n",
            "|Subject: do not h...|                   1|\n",
            "|Subject: great nn...|                   1|\n",
            "|\"Subject: here ' ...|         sea  ports |\n",
            "|Subject: save you...|                   1|\n",
            "|Subject: undelive...|                   1|\n",
            "|Subject: save you...|                   1|\n",
            "|Subject: las vega...|                   1|\n",
            "|Subject: save you...|                   1|\n",
            "|Subject: brighten...|                   1|\n",
            "|\"Subject: wall st...|  yet sti | | pro...|\n",
            "|Subject: fpa noti...|                   1|\n",
            "|\"Subject: search ...|                   1|\n",
            "|Subject: only our...|                   1|\n",
            "|Subject: localize...|                   1|\n",
            "|Subject: security...|                   1|\n",
            "|Subject: 21 st ce...|                   1|\n",
            "+--------------------+--------------------+\n",
            "only showing top 20 rows\n",
            "\n"
          ]
        }
      ]
    },
    {
      "cell_type": "code",
      "source": [
        "# seleksi fitur spam dan menampilkan sebanyak 5 baris\n",
        "df.select('spam').show(5,truncate=False)"
      ],
      "metadata": {
        "colab": {
          "base_uri": "https://localhost:8080/"
        },
        "id": "fa7nDHyhKBjB",
        "outputId": "d3cd7431-0748-47b8-f74f-3e6940b97e94"
      },
      "execution_count": null,
      "outputs": [
        {
          "output_type": "stream",
          "name": "stdout",
          "text": [
            "+----+\n",
            "|spam|\n",
            "+----+\n",
            "|1   |\n",
            "|1   |\n",
            "|1   |\n",
            "|1   |\n",
            "|1   |\n",
            "+----+\n",
            "only showing top 5 rows\n",
            "\n"
          ]
        }
      ]
    },
    {
      "cell_type": "code",
      "source": [
        "# memfilter data spam = 1 atau spam = 0 lalu count data untuk menghitung data\n",
        "df2 = df.filter((df['spam']==\"1\")|(df['spam']==\"0\"))\n",
        "df2.count()"
      ],
      "metadata": {
        "colab": {
          "base_uri": "https://localhost:8080/"
        },
        "id": "GntqUb8BPJy0",
        "outputId": "48135497-3c03-4d96-c718-7a86027a68a7"
      },
      "execution_count": null,
      "outputs": [
        {
          "output_type": "execute_result",
          "data": {
            "text/plain": [
              "4194"
            ]
          },
          "metadata": {},
          "execution_count": 8
        }
      ]
    },
    {
      "cell_type": "code",
      "source": [
        "# lalu menampilkan jumlah data spam 1 dan 0 dengan groupby\n",
        "df2.groupBy('spam').count().show()"
      ],
      "metadata": {
        "colab": {
          "base_uri": "https://localhost:8080/"
        },
        "id": "ymCFG7-xPOZw",
        "outputId": "ccf09950-515d-4e1a-ffec-98da8d1ebd29"
      },
      "execution_count": null,
      "outputs": [
        {
          "output_type": "stream",
          "name": "stdout",
          "text": [
            "+----+-----+\n",
            "|spam|count|\n",
            "+----+-----+\n",
            "|   0| 3006|\n",
            "|   1| 1188|\n",
            "+----+-----+\n",
            "\n"
          ]
        }
      ]
    },
    {
      "cell_type": "code",
      "source": [
        "# lalu seleksi fitur text dan mengembalikan nilai kolom pertama\n",
        "txt1 = df2.select('text').first()"
      ],
      "metadata": {
        "id": "b9KftH5mPECY"
      },
      "execution_count": null,
      "outputs": []
    },
    {
      "cell_type": "code",
      "source": [
        "# menampilkan type data\n",
        "type(txt1)"
      ],
      "metadata": {
        "colab": {
          "base_uri": "https://localhost:8080/"
        },
        "id": "SINVjOTdPdyJ",
        "outputId": "4c0a2d9a-b120-4529-8877-e3a89b53165a"
      },
      "execution_count": null,
      "outputs": [
        {
          "output_type": "execute_result",
          "data": {
            "text/plain": [
              "pyspark.sql.types.Row"
            ]
          },
          "metadata": {},
          "execution_count": 11
        }
      ]
    },
    {
      "cell_type": "code",
      "source": [
        "# import tokenizer, regextokenizer lalu memisahkan kalimat jadi kata lalu menampilkan data\n",
        "from pyspark.ml.feature import Tokenizer, RegexTokenizer\n",
        "tokenizer = Tokenizer(inputCol=\"text\", outputCol=\"words\")\n",
        "regexTokenizer = RegexTokenizer(inputCol=\"text\", outputCol=\"words\", pattern=\"\\\\W\")\n",
        "tokenized = tokenizer.transform(df2)\n",
        "tokenized.show(2)"
      ],
      "metadata": {
        "colab": {
          "base_uri": "https://localhost:8080/"
        },
        "id": "p78eqs80PkUj",
        "outputId": "0b9e1774-1ac0-4986-8160-e847d3b3c9d5"
      },
      "execution_count": null,
      "outputs": [
        {
          "output_type": "stream",
          "name": "stdout",
          "text": [
            "+--------------------+----+--------------------+\n",
            "|                text|spam|               words|\n",
            "+--------------------+----+--------------------+\n",
            "|Subject: naturall...|   1|[subject:, natura...|\n",
            "|Subject: the stoc...|   1|[subject:, the, s...|\n",
            "+--------------------+----+--------------------+\n",
            "only showing top 2 rows\n",
            "\n"
          ]
        }
      ]
    },
    {
      "cell_type": "code",
      "source": [
        "# pada regex menampilkan kata dengan pattern \\\\W artinya karakter bukan kata\n",
        "regexTokenized = regexTokenizer.transform(df2)\n",
        "regexTokenized.show(2)"
      ],
      "metadata": {
        "colab": {
          "base_uri": "https://localhost:8080/"
        },
        "id": "RMslpUIfS-Qc",
        "outputId": "ea981559-15e2-4dfe-eead-a54f17913df1"
      },
      "execution_count": null,
      "outputs": [
        {
          "output_type": "stream",
          "name": "stdout",
          "text": [
            "+--------------------+----+--------------------+\n",
            "|                text|spam|               words|\n",
            "+--------------------+----+--------------------+\n",
            "|Subject: naturall...|   1|[subject, natural...|\n",
            "|Subject: the stoc...|   1|[subject, the, st...|\n",
            "+--------------------+----+--------------------+\n",
            "only showing top 2 rows\n",
            "\n"
          ]
        }
      ]
    },
    {
      "cell_type": "code",
      "source": [
        "# lalu import stopwordremover digunakan untuk memisahkan tanda baca\n",
        "from pyspark.ml.feature import StopWordsRemover\n",
        "remover = StopWordsRemover(inputCol=\"words\", outputCol=\"filtered\")\n",
        "data = remover.transform(regexTokenized)\n",
        "data.show(2)"
      ],
      "metadata": {
        "colab": {
          "base_uri": "https://localhost:8080/"
        },
        "id": "dy19LXaOTJDz",
        "outputId": "e7349ac3-3855-41a4-ff8b-01a86cdd114f"
      },
      "execution_count": null,
      "outputs": [
        {
          "output_type": "stream",
          "name": "stdout",
          "text": [
            "+--------------------+----+--------------------+--------------------+\n",
            "|                text|spam|               words|            filtered|\n",
            "+--------------------+----+--------------------+--------------------+\n",
            "|Subject: naturall...|   1|[subject, natural...|[subject, natural...|\n",
            "|Subject: the stoc...|   1|[subject, the, st...|[subject, stock, ...|\n",
            "+--------------------+----+--------------------+--------------------+\n",
            "only showing top 2 rows\n",
            "\n"
          ]
        }
      ]
    },
    {
      "cell_type": "code",
      "source": [
        "# lalu mendesain dan mengola tipe data berdasarkan data kata dan data yang telah difilter\n",
        "data.select('words').first()\n",
        "data.select('filtered').first()\n",
        "def mots(txt):\n",
        "    return [w for w in txt if ((len(w) > 2) & (w != 'subject'))  ]\n",
        "str = [\"subject\",\"sam\",\"de\",\"fat\",\"*\",\"--\"]\n",
        "print(mots(str))"
      ],
      "metadata": {
        "colab": {
          "base_uri": "https://localhost:8080/"
        },
        "id": "NZzDepOSTVhf",
        "outputId": "f1d6d539-6d5e-4eeb-cb13-8e861ba00ba9"
      },
      "execution_count": null,
      "outputs": [
        {
          "output_type": "stream",
          "name": "stdout",
          "text": [
            "['sam', 'fat']\n"
          ]
        }
      ]
    },
    {
      "cell_type": "code",
      "source": [
        "# lalu import udf untuk memanipulasi data\n",
        "from pyspark.sql.functions import udf\n",
        "from pyspark.sql.types import ArrayType, StringType\n",
        "mots = udf(mots,ArrayType(StringType()))\n",
        "\n",
        "toNum = lambda str:int(str)\n",
        "toNum('3')+2\n",
        "toNum = udf(toNum,'int')\n",
        "\n",
        "data2 = data.withColumn('motsPur', mots(data[\"filtered\"]))\n",
        "data2 = data2.withColumn('label', toNum(data[\"spam\"]))\n",
        "data2.select('motsPur').first()\n",
        "data2.select('label').show(5)"
      ],
      "metadata": {
        "colab": {
          "base_uri": "https://localhost:8080/"
        },
        "id": "63hSDSEHThse",
        "outputId": "0a4ef966-1a98-4612-f6ca-4dbd82923dd0"
      },
      "execution_count": null,
      "outputs": [
        {
          "output_type": "stream",
          "name": "stdout",
          "text": [
            "+-----+\n",
            "|label|\n",
            "+-----+\n",
            "|    1|\n",
            "|    1|\n",
            "|    1|\n",
            "|    1|\n",
            "|    1|\n",
            "+-----+\n",
            "only showing top 5 rows\n",
            "\n"
          ]
        }
      ]
    },
    {
      "cell_type": "code",
      "source": [
        "# import vector untuk menghitung jumlah vector\n",
        "from pyspark.ml.feature import CountVectorizer\n",
        "cv = CountVectorizer(inputCol=\"motsPur\", outputCol=\"features\")\n",
        "data3 = cv.fit(data2).transform(data2)"
      ],
      "metadata": {
        "id": "GqB43D81Ty2t"
      },
      "execution_count": null,
      "outputs": []
    },
    {
      "cell_type": "code",
      "source": [
        "train, test = data3.randomSplit([0.7,0.3],seed=100)"
      ],
      "metadata": {
        "id": "TtSSFLcsUHUo"
      },
      "execution_count": null,
      "outputs": []
    },
    {
      "cell_type": "code",
      "source": [
        "# import naive bayes dan melakukan modeling data\n",
        "from pyspark.ml.classification import NaiveBayes\n",
        "from pyspark.ml.evaluation import MulticlassClassificationEvaluator\n",
        "nb = NaiveBayes(smoothing=1.0, modelType=\"multinomial\")\n",
        "# train the model\n",
        "model = nb.fit(train)\n",
        "predictions = model.transform(test)\n",
        "predictions.show(5)"
      ],
      "metadata": {
        "colab": {
          "base_uri": "https://localhost:8080/"
        },
        "id": "TfrGLKbNUJ3g",
        "outputId": "c76374c2-1f9d-40c2-8d2c-b8ec3208f757"
      },
      "execution_count": null,
      "outputs": [
        {
          "output_type": "stream",
          "name": "stdout",
          "text": [
            "+--------------------+----+--------------------+--------------------+--------------------+-----+--------------------+--------------------+--------------------+----------+\n",
            "|                text|spam|               words|            filtered|             motsPur|label|            features|       rawPrediction|         probability|prediction|\n",
            "+--------------------+----+--------------------+--------------------+--------------------+-----+--------------------+--------------------+--------------------+----------+\n",
            "|\"Subject: : : fas...|   1|[subject, fast, a...|[subject, fast, a...|[fast, acting, vi...|    1|(27040,[4,15,17,1...|[-452.16724560479...|[7.73161550257495...|       1.0|\n",
            "|\"Subject: best pr...|   1|[subject, best, p...|[subject, best, p...|[best, product, 2...|    1|(27040,[45,57,73,...|[-337.30366065851...|[7.47007172536415...|       1.0|\n",
            "|\"Subject: bio ' s...|   0|[subject, bio, s,...|[subject, bio, hi...|[bio, john, sorry...|    0|(27040,[9,35,59,8...|[-205.33504061591...|[0.99999999999999...|       0.0|\n",
            "|\"Subject: confirm...|   0|[subject, confirm...|[subject, confirm...|[confirmation, or...|    0|(27040,[1,16,56,9...|[-186.63908738309...|[0.99999999935942...|       0.0|\n",
            "|\"Subject: confirm...|   0|[subject, confirm...|[subject, confirm...|[confirmation, or...|    0|(27040,[1,2,7,56,...|[-186.53341500941...|[0.99999999999986...|       0.0|\n",
            "+--------------------+----+--------------------+--------------------+--------------------+-----+--------------------+--------------------+--------------------+----------+\n",
            "only showing top 5 rows\n",
            "\n"
          ]
        }
      ]
    },
    {
      "cell_type": "code",
      "source": [
        "# evaluasi model\n",
        "test2 = test.select('features')\n",
        "predictions2 = model.transform(test2)\n",
        "evaluator = MulticlassClassificationEvaluator(labelCol=\"label\", predictionCol=\"prediction\")\n",
        "\n",
        "accuracy = evaluator.evaluate(predictions,{evaluator.metricName:\"accuracy\"})\n",
        "f1 = evaluator.evaluate(predictions,{evaluator.metricName:\"f1\"})\n",
        "TP = evaluator.evaluate(predictions,{evaluator.metricName:\"truePositiveRateByLabel\"})\n",
        "FP = evaluator.evaluate(predictions,{evaluator.metricName:\"falsePositiveRateByLabel\"})\n",
        "precisionByLabel = evaluator.evaluate(predictions,{evaluator.metricName:\"precisionByLabel\"})\n",
        "recallByLabel = evaluator.evaluate(predictions,{evaluator.metricName:\"recallByLabel\"})\n",
        "\n",
        "print(\"accuracy : \",accuracy)\n",
        "print(\"F1 : \",f1)\n",
        "print(\"TP : \",TP)\n",
        "print(\"FP : \",FP)\n",
        "print(\"precisionByLabel : \",precisionByLabel)\n",
        "print(\"recallByLabel : \",recallByLabel)\n"
      ],
      "metadata": {
        "colab": {
          "base_uri": "https://localhost:8080/"
        },
        "id": "Xwkg-RpGURVH",
        "outputId": "f7f161e8-60a5-4559-cd01-9a832d971ce8"
      },
      "execution_count": null,
      "outputs": [
        {
          "output_type": "stream",
          "name": "stdout",
          "text": [
            "accuracy :  0.9911290322580645\n",
            "F1 :  0.991153617818902\n",
            "TP :  0.9897377423033067\n",
            "FP :  0.005509641873278237\n",
            "precisionByLabel :  0.9977011494252873\n",
            "recallByLabel :  0.9897377423033067\n"
          ]
        }
      ]
    }
  ]
}